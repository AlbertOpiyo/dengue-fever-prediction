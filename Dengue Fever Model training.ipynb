{
 "cells": [
  {
   "cell_type": "code",
   "execution_count": 80,
   "id": "9e6e8f1e",
   "metadata": {},
   "outputs": [],
   "source": [
    "import pandas as pd\n",
    "from sklearn.model_selection import train_test_split\n",
    "from sklearn.linear_model import LinearRegression\n",
    "from sklearn.neighbors import KNeighborsRegressor\n",
    "from sklearn.ensemble import RandomForestRegressor\n",
    "from sklearn.linear_model import Ridge\n",
    "\n",
    "from sklearn.compose import ColumnTransformer\n",
    "from sklearn.pipeline import Pipeline\n",
    "\n",
    "from sklearn.preprocessing import MinMaxScaler\n",
    "from sklearn.metrics import mean_absolute_error, mean_squared_error, r2_score\n",
    "from sklearn.model_selection import GridSearchCV\n",
    "\n",
    "import pickle"
   ]
  },
  {
   "cell_type": "markdown",
   "id": "3ea09ac2",
   "metadata": {},
   "source": [
    "The problem is a regression problem that's why I chose regression algorithms"
   ]
  },
  {
   "cell_type": "code",
   "execution_count": 14,
   "id": "93313330",
   "metadata": {},
   "outputs": [],
   "source": [
    "#import the datasets\n",
    "train_features= pd.read_csv('dengue_features_train.csv')\n",
    "train_labels=pd.read_csv('dengue_labels_train.csv')\n",
    "test_data = pd.read_csv('dengue_features_test.csv')"
   ]
  },
  {
   "cell_type": "code",
   "execution_count": 3,
   "id": "2b35525d",
   "metadata": {},
   "outputs": [],
   "source": [
    "df1= train_features.copy()\n",
    "df2= train_labels.copy()"
   ]
  },
  {
   "cell_type": "code",
   "execution_count": 15,
   "id": "77f7f2d1",
   "metadata": {},
   "outputs": [],
   "source": [
    "df3=test_data.copy()"
   ]
  },
  {
   "cell_type": "code",
   "execution_count": 4,
   "id": "f16a31ea",
   "metadata": {},
   "outputs": [],
   "source": [
    "merged_df=pd.merge(df1, df2, on=['city', 'year', 'weekofyear'])"
   ]
  },
  {
   "cell_type": "code",
   "execution_count": 20,
   "id": "d796c24d",
   "metadata": {
    "scrolled": true
   },
   "outputs": [
    {
     "data": {
      "text/html": [
       "<div>\n",
       "<style scoped>\n",
       "    .dataframe tbody tr th:only-of-type {\n",
       "        vertical-align: middle;\n",
       "    }\n",
       "\n",
       "    .dataframe tbody tr th {\n",
       "        vertical-align: top;\n",
       "    }\n",
       "\n",
       "    .dataframe thead th {\n",
       "        text-align: right;\n",
       "    }\n",
       "</style>\n",
       "<table border=\"1\" class=\"dataframe\">\n",
       "  <thead>\n",
       "    <tr style=\"text-align: right;\">\n",
       "      <th></th>\n",
       "      <th>city</th>\n",
       "      <th>year</th>\n",
       "      <th>weekofyear</th>\n",
       "      <th>week_start_date</th>\n",
       "      <th>ndvi_ne</th>\n",
       "      <th>ndvi_nw</th>\n",
       "      <th>ndvi_se</th>\n",
       "      <th>ndvi_sw</th>\n",
       "      <th>precipitation_amt_mm</th>\n",
       "      <th>reanalysis_air_temp_k</th>\n",
       "      <th>...</th>\n",
       "      <th>reanalysis_sat_precip_amt_mm</th>\n",
       "      <th>reanalysis_specific_humidity_g_per_kg</th>\n",
       "      <th>reanalysis_tdtr_k</th>\n",
       "      <th>station_avg_temp_c</th>\n",
       "      <th>station_diur_temp_rng_c</th>\n",
       "      <th>station_max_temp_c</th>\n",
       "      <th>station_min_temp_c</th>\n",
       "      <th>station_precip_mm</th>\n",
       "      <th>total_cases</th>\n",
       "      <th>month</th>\n",
       "    </tr>\n",
       "  </thead>\n",
       "  <tbody>\n",
       "    <tr>\n",
       "      <th>0</th>\n",
       "      <td>sj</td>\n",
       "      <td>1990</td>\n",
       "      <td>18</td>\n",
       "      <td>1990-04-30</td>\n",
       "      <td>0.122600</td>\n",
       "      <td>0.103725</td>\n",
       "      <td>0.198483</td>\n",
       "      <td>0.177617</td>\n",
       "      <td>12.42</td>\n",
       "      <td>297.572857</td>\n",
       "      <td>...</td>\n",
       "      <td>12.42</td>\n",
       "      <td>14.012857</td>\n",
       "      <td>2.628571</td>\n",
       "      <td>25.442857</td>\n",
       "      <td>6.900000</td>\n",
       "      <td>29.4</td>\n",
       "      <td>20.0</td>\n",
       "      <td>16.0</td>\n",
       "      <td>4</td>\n",
       "      <td>4</td>\n",
       "    </tr>\n",
       "    <tr>\n",
       "      <th>1</th>\n",
       "      <td>sj</td>\n",
       "      <td>1990</td>\n",
       "      <td>19</td>\n",
       "      <td>1990-05-07</td>\n",
       "      <td>0.169900</td>\n",
       "      <td>0.142175</td>\n",
       "      <td>0.162357</td>\n",
       "      <td>0.155486</td>\n",
       "      <td>22.82</td>\n",
       "      <td>298.211429</td>\n",
       "      <td>...</td>\n",
       "      <td>22.82</td>\n",
       "      <td>15.372857</td>\n",
       "      <td>2.371429</td>\n",
       "      <td>26.714286</td>\n",
       "      <td>6.371429</td>\n",
       "      <td>31.7</td>\n",
       "      <td>22.2</td>\n",
       "      <td>8.6</td>\n",
       "      <td>5</td>\n",
       "      <td>5</td>\n",
       "    </tr>\n",
       "    <tr>\n",
       "      <th>2</th>\n",
       "      <td>sj</td>\n",
       "      <td>1990</td>\n",
       "      <td>20</td>\n",
       "      <td>1990-05-14</td>\n",
       "      <td>0.032250</td>\n",
       "      <td>0.172967</td>\n",
       "      <td>0.157200</td>\n",
       "      <td>0.170843</td>\n",
       "      <td>34.54</td>\n",
       "      <td>298.781429</td>\n",
       "      <td>...</td>\n",
       "      <td>34.54</td>\n",
       "      <td>16.848571</td>\n",
       "      <td>2.300000</td>\n",
       "      <td>26.714286</td>\n",
       "      <td>6.485714</td>\n",
       "      <td>32.2</td>\n",
       "      <td>22.8</td>\n",
       "      <td>41.4</td>\n",
       "      <td>4</td>\n",
       "      <td>5</td>\n",
       "    </tr>\n",
       "    <tr>\n",
       "      <th>3</th>\n",
       "      <td>sj</td>\n",
       "      <td>1990</td>\n",
       "      <td>21</td>\n",
       "      <td>1990-05-21</td>\n",
       "      <td>0.128633</td>\n",
       "      <td>0.245067</td>\n",
       "      <td>0.227557</td>\n",
       "      <td>0.235886</td>\n",
       "      <td>15.36</td>\n",
       "      <td>298.987143</td>\n",
       "      <td>...</td>\n",
       "      <td>15.36</td>\n",
       "      <td>16.672857</td>\n",
       "      <td>2.428571</td>\n",
       "      <td>27.471429</td>\n",
       "      <td>6.771429</td>\n",
       "      <td>33.3</td>\n",
       "      <td>23.3</td>\n",
       "      <td>4.0</td>\n",
       "      <td>3</td>\n",
       "      <td>5</td>\n",
       "    </tr>\n",
       "    <tr>\n",
       "      <th>4</th>\n",
       "      <td>sj</td>\n",
       "      <td>1990</td>\n",
       "      <td>22</td>\n",
       "      <td>1990-05-28</td>\n",
       "      <td>0.196200</td>\n",
       "      <td>0.262200</td>\n",
       "      <td>0.251200</td>\n",
       "      <td>0.247340</td>\n",
       "      <td>7.52</td>\n",
       "      <td>299.518571</td>\n",
       "      <td>...</td>\n",
       "      <td>7.52</td>\n",
       "      <td>17.210000</td>\n",
       "      <td>3.014286</td>\n",
       "      <td>28.942857</td>\n",
       "      <td>9.371429</td>\n",
       "      <td>35.0</td>\n",
       "      <td>23.9</td>\n",
       "      <td>5.8</td>\n",
       "      <td>6</td>\n",
       "      <td>5</td>\n",
       "    </tr>\n",
       "  </tbody>\n",
       "</table>\n",
       "<p>5 rows × 26 columns</p>\n",
       "</div>"
      ],
      "text/plain": [
       "  city  year  weekofyear week_start_date   ndvi_ne   ndvi_nw   ndvi_se  \\\n",
       "0   sj  1990          18      1990-04-30  0.122600  0.103725  0.198483   \n",
       "1   sj  1990          19      1990-05-07  0.169900  0.142175  0.162357   \n",
       "2   sj  1990          20      1990-05-14  0.032250  0.172967  0.157200   \n",
       "3   sj  1990          21      1990-05-21  0.128633  0.245067  0.227557   \n",
       "4   sj  1990          22      1990-05-28  0.196200  0.262200  0.251200   \n",
       "\n",
       "    ndvi_sw  precipitation_amt_mm  reanalysis_air_temp_k  ...  \\\n",
       "0  0.177617                 12.42             297.572857  ...   \n",
       "1  0.155486                 22.82             298.211429  ...   \n",
       "2  0.170843                 34.54             298.781429  ...   \n",
       "3  0.235886                 15.36             298.987143  ...   \n",
       "4  0.247340                  7.52             299.518571  ...   \n",
       "\n",
       "   reanalysis_sat_precip_amt_mm  reanalysis_specific_humidity_g_per_kg  \\\n",
       "0                         12.42                              14.012857   \n",
       "1                         22.82                              15.372857   \n",
       "2                         34.54                              16.848571   \n",
       "3                         15.36                              16.672857   \n",
       "4                          7.52                              17.210000   \n",
       "\n",
       "   reanalysis_tdtr_k  station_avg_temp_c  station_diur_temp_rng_c  \\\n",
       "0           2.628571           25.442857                 6.900000   \n",
       "1           2.371429           26.714286                 6.371429   \n",
       "2           2.300000           26.714286                 6.485714   \n",
       "3           2.428571           27.471429                 6.771429   \n",
       "4           3.014286           28.942857                 9.371429   \n",
       "\n",
       "   station_max_temp_c  station_min_temp_c  station_precip_mm  total_cases  \\\n",
       "0                29.4                20.0               16.0            4   \n",
       "1                31.7                22.2                8.6            5   \n",
       "2                32.2                22.8               41.4            4   \n",
       "3                33.3                23.3                4.0            3   \n",
       "4                35.0                23.9                5.8            6   \n",
       "\n",
       "   month  \n",
       "0      4  \n",
       "1      5  \n",
       "2      5  \n",
       "3      5  \n",
       "4      5  \n",
       "\n",
       "[5 rows x 26 columns]"
      ]
     },
     "execution_count": 20,
     "metadata": {},
     "output_type": "execute_result"
    }
   ],
   "source": [
    "merged_df.head()"
   ]
  },
  {
   "cell_type": "markdown",
   "id": "f302b5c6",
   "metadata": {},
   "source": [
    "use san juan and iquiots data seperately "
   ]
  },
  {
   "cell_type": "code",
   "execution_count": 87,
   "id": "b2f54c13",
   "metadata": {},
   "outputs": [],
   "source": [
    "sj_data=merged_df[merged_df['city'] == 'sj']\n",
    "iq_data=merged_df[merged_df['city'] == 'iq']"
   ]
  },
  {
   "cell_type": "code",
   "execution_count": 88,
   "id": "f69b6bc9",
   "metadata": {},
   "outputs": [
    {
     "data": {
      "text/plain": [
       "(936, 26)"
      ]
     },
     "execution_count": 88,
     "metadata": {},
     "output_type": "execute_result"
    }
   ],
   "source": [
    "sj_data.shape"
   ]
  },
  {
   "cell_type": "code",
   "execution_count": 90,
   "id": "86e17088",
   "metadata": {},
   "outputs": [],
   "source": [
    "df=sj_data.copy()"
   ]
  },
  {
   "cell_type": "code",
   "execution_count": 89,
   "id": "20119817",
   "metadata": {},
   "outputs": [
    {
     "data": {
      "text/plain": [
       "(520, 26)"
      ]
     },
     "execution_count": 89,
     "metadata": {},
     "output_type": "execute_result"
    }
   ],
   "source": [
    "iq_data.shape"
   ]
  },
  {
   "cell_type": "code",
   "execution_count": 26,
   "id": "7a6438c3",
   "metadata": {},
   "outputs": [],
   "source": [
    "def wrangle(data,target_column=None):\n",
    "    # convert the date column to the correct format\n",
    "    data['week_start_date'] = pd.to_datetime(data['week_start_date'])\n",
    "    # add the month column\n",
    "    data['month'] = data['week_start_date'].dt.month\n",
    "    # fill the nulls\n",
    "    data.fillna(method='ffill', inplace=True)\n",
    "    # drop columns\n",
    "    data = data.drop(columns=([\"city\",\"year\",\"weekofyear\",\"week_start_date\"]), axis=1)\n",
    "    \n",
    "    return data\n",
    "\n",
    "    "
   ]
  },
  {
   "cell_type": "code",
   "execution_count": 31,
   "id": "a1bd07b2",
   "metadata": {},
   "outputs": [],
   "source": [
    "def preprocessing(data,target_column=None):\n",
    "    # Separate features and target\n",
    "    if target_column is not None:\n",
    "        X = data.drop(target_column, axis=1)\n",
    "        y = data[target_column]\n",
    "        \n",
    "        scaler=MinMaxScaler(feature_range=(0, 1)) \n",
    "        X_scaled=scaler.fit_transform(X)\n",
    "\n",
    "        return X_scaled, y\n",
    "    else:\n",
    "        # No target column\n",
    "        X = data\n",
    "        scaler=MinMaxScaler(feature_range=(0, 1)) \n",
    "        X_scaled=scaler.fit_transform(X)\n",
    "\n",
    "        return X_scaled"
   ]
  },
  {
   "cell_type": "markdown",
   "id": "da25d6c1",
   "metadata": {},
   "source": [
    "### San Juan Data"
   ]
  },
  {
   "cell_type": "code",
   "execution_count": 91,
   "id": "f656715a",
   "metadata": {},
   "outputs": [],
   "source": [
    "# San Juan Data\n",
    "san_data=wrangle(df,'total_cases')"
   ]
  },
  {
   "cell_type": "code",
   "execution_count": 93,
   "id": "7f36cc0c",
   "metadata": {},
   "outputs": [],
   "source": [
    "X_scaled_san, y_san=preprocessing(san_data,'total_cases')"
   ]
  },
  {
   "cell_type": "code",
   "execution_count": 96,
   "id": "c727c34a",
   "metadata": {},
   "outputs": [
    {
     "data": {
      "text/plain": [
       "(936, 21)"
      ]
     },
     "execution_count": 96,
     "metadata": {},
     "output_type": "execute_result"
    }
   ],
   "source": [
    "X_scaled_san.shape"
   ]
  },
  {
   "cell_type": "markdown",
   "id": "60fd0617",
   "metadata": {},
   "source": [
    "Split the data set into Train and test sets\\\n",
    "time series data is split based on a cutoff. not randomized data"
   ]
  },
  {
   "cell_type": "code",
   "execution_count": 97,
   "id": "32346f08",
   "metadata": {},
   "outputs": [],
   "source": [
    "# I will use 20% on the test data\n",
    "cut_off=int(len(X_scaled_san)*0.8)"
   ]
  },
  {
   "cell_type": "code",
   "execution_count": 118,
   "id": "8541ae36",
   "metadata": {},
   "outputs": [],
   "source": [
    "X_train_san=X_scaled_san[0: cut_off]"
   ]
  },
  {
   "cell_type": "code",
   "execution_count": 119,
   "id": "7d86a7cc",
   "metadata": {},
   "outputs": [],
   "source": [
    "X_test_san=X_scaled_san[cut_off:]"
   ]
  },
  {
   "cell_type": "code",
   "execution_count": 120,
   "id": "3272358b",
   "metadata": {},
   "outputs": [],
   "source": [
    "y_train_san= y_san[0: cut_off]"
   ]
  },
  {
   "cell_type": "code",
   "execution_count": 121,
   "id": "3182663a",
   "metadata": {},
   "outputs": [],
   "source": [
    "y_test_san= y_san[cut_off:]"
   ]
  },
  {
   "cell_type": "code",
   "execution_count": 124,
   "id": "fc421322",
   "metadata": {},
   "outputs": [],
   "source": [
    "### Baseline accuracy"
   ]
  },
  {
   "cell_type": "code",
   "execution_count": 125,
   "id": "08e92868",
   "metadata": {},
   "outputs": [],
   "source": [
    "#Linear regression\n",
    "lr=LinearRegression()\n",
    "lr.fit(X_train_san, y_train_san) # Train the model on the training data\n",
    " # Evaluate the model on the validation set\n",
    "y_pred = lr.predict(X_test_san)"
   ]
  },
  {
   "cell_type": "code",
   "execution_count": 127,
   "id": "74c394a7",
   "metadata": {},
   "outputs": [],
   "source": [
    "# calaculate the metrics\n",
    "# R-squared\n",
    "lr_r2 = r2_score(y_test_san, y_pred)\n",
    "\n",
    "# Mean Squared Error\n",
    "lr_mse = mean_squared_error(y_test_san, y_pred)\n",
    "\n",
    "# Mean Absolute Error\n",
    "lr_mae = mean_absolute_error(y_test_san, y_pred)"
   ]
  },
  {
   "cell_type": "code",
   "execution_count": 128,
   "id": "5419be3f",
   "metadata": {},
   "outputs": [
    {
     "name": "stdout",
     "output_type": "stream",
     "text": [
      "R-squared: -0.2597561012788663\n",
      "Mean Squared Error: 1224.1913373957357\n",
      "Mean Absolute Error: 26.89028649271969\n"
     ]
    }
   ],
   "source": [
    "\n",
    "print(\"R-squared:\", lr_r2)\n",
    "print(\"Mean Squared Error:\", lr_mse)\n",
    "print(\"Mean Absolute Error:\", lr_mae)"
   ]
  },
  {
   "cell_type": "code",
   "execution_count": 130,
   "id": "e113a850",
   "metadata": {},
   "outputs": [
    {
     "data": {
      "text/html": [
       "<div>\n",
       "<style scoped>\n",
       "    .dataframe tbody tr th:only-of-type {\n",
       "        vertical-align: middle;\n",
       "    }\n",
       "\n",
       "    .dataframe tbody tr th {\n",
       "        vertical-align: top;\n",
       "    }\n",
       "\n",
       "    .dataframe thead th {\n",
       "        text-align: right;\n",
       "    }\n",
       "</style>\n",
       "<table border=\"1\" class=\"dataframe\">\n",
       "  <thead>\n",
       "    <tr style=\"text-align: right;\">\n",
       "      <th></th>\n",
       "      <th>Actual Values</th>\n",
       "      <th>Predictions</th>\n",
       "    </tr>\n",
       "  </thead>\n",
       "  <tbody>\n",
       "    <tr>\n",
       "      <th>748</th>\n",
       "      <td>13</td>\n",
       "      <td>70.44</td>\n",
       "    </tr>\n",
       "    <tr>\n",
       "      <th>749</th>\n",
       "      <td>27</td>\n",
       "      <td>57.10</td>\n",
       "    </tr>\n",
       "    <tr>\n",
       "      <th>750</th>\n",
       "      <td>13</td>\n",
       "      <td>15.14</td>\n",
       "    </tr>\n",
       "    <tr>\n",
       "      <th>751</th>\n",
       "      <td>18</td>\n",
       "      <td>40.78</td>\n",
       "    </tr>\n",
       "    <tr>\n",
       "      <th>752</th>\n",
       "      <td>16</td>\n",
       "      <td>40.08</td>\n",
       "    </tr>\n",
       "  </tbody>\n",
       "</table>\n",
       "</div>"
      ],
      "text/plain": [
       "     Actual Values  Predictions\n",
       "748             13        70.44\n",
       "749             27        57.10\n",
       "750             13        15.14\n",
       "751             18        40.78\n",
       "752             16        40.08"
      ]
     },
     "execution_count": 130,
     "metadata": {},
     "output_type": "execute_result"
    }
   ],
   "source": [
    "df = pd.DataFrame(data={\"Actual Values\": y_test_san, \"Predictions\": y_pred})\n",
    "pd.options.display.float_format = '{:.2f}'.format\n",
    "df.head()"
   ]
  },
  {
   "cell_type": "code",
   "execution_count": 131,
   "id": "bd21fc19",
   "metadata": {},
   "outputs": [],
   "source": [
    "\n",
    "# KNeighbors regressor\n",
    "knr=KNeighborsRegressor()\n",
    "knr.fit(X_train_san, y_train_san) # Train the model on the training data\n",
    " # Evaluate the model on the validation set\n",
    "y_pred_knr = knr.predict(X_test_san)"
   ]
  },
  {
   "cell_type": "code",
   "execution_count": 132,
   "id": "401d8311",
   "metadata": {},
   "outputs": [
    {
     "name": "stdout",
     "output_type": "stream",
     "text": [
      "R-squared: -0.4475229311480782\n",
      "Mean Squared Error: 1406.6572340425535\n",
      "Mean Absolute Error: 26.273404255319146\n"
     ]
    }
   ],
   "source": [
    "# R-squared\n",
    "knr_r2 = r2_score(y_test_san, y_pred_knr)\n",
    "\n",
    "# Mean Squared Error\n",
    "knr_mse = mean_squared_error(y_test_san, y_pred_knr)\n",
    "\n",
    "# Mean Absolute Error\n",
    "knr_mae = mean_absolute_error(y_test_san, y_pred_knr)\n",
    "\n",
    "print(\"R-squared:\", knr_r2)\n",
    "print(\"Mean Squared Error:\", knr_mse)\n",
    "print(\"Mean Absolute Error:\", knr_mae)"
   ]
  },
  {
   "cell_type": "code",
   "execution_count": 133,
   "id": "33234458",
   "metadata": {},
   "outputs": [
    {
     "data": {
      "text/html": [
       "<div>\n",
       "<style scoped>\n",
       "    .dataframe tbody tr th:only-of-type {\n",
       "        vertical-align: middle;\n",
       "    }\n",
       "\n",
       "    .dataframe tbody tr th {\n",
       "        vertical-align: top;\n",
       "    }\n",
       "\n",
       "    .dataframe thead th {\n",
       "        text-align: right;\n",
       "    }\n",
       "</style>\n",
       "<table border=\"1\" class=\"dataframe\">\n",
       "  <thead>\n",
       "    <tr style=\"text-align: right;\">\n",
       "      <th></th>\n",
       "      <th>Actual Values</th>\n",
       "      <th>Predictions</th>\n",
       "    </tr>\n",
       "  </thead>\n",
       "  <tbody>\n",
       "    <tr>\n",
       "      <th>748</th>\n",
       "      <td>13</td>\n",
       "      <td>50.40</td>\n",
       "    </tr>\n",
       "    <tr>\n",
       "      <th>749</th>\n",
       "      <td>27</td>\n",
       "      <td>93.20</td>\n",
       "    </tr>\n",
       "    <tr>\n",
       "      <th>750</th>\n",
       "      <td>13</td>\n",
       "      <td>35.80</td>\n",
       "    </tr>\n",
       "    <tr>\n",
       "      <th>751</th>\n",
       "      <td>18</td>\n",
       "      <td>68.40</td>\n",
       "    </tr>\n",
       "    <tr>\n",
       "      <th>752</th>\n",
       "      <td>16</td>\n",
       "      <td>37.20</td>\n",
       "    </tr>\n",
       "  </tbody>\n",
       "</table>\n",
       "</div>"
      ],
      "text/plain": [
       "     Actual Values  Predictions\n",
       "748             13        50.40\n",
       "749             27        93.20\n",
       "750             13        35.80\n",
       "751             18        68.40\n",
       "752             16        37.20"
      ]
     },
     "execution_count": 133,
     "metadata": {},
     "output_type": "execute_result"
    }
   ],
   "source": [
    "df = pd.DataFrame(data={\"Actual Values\": y_test_san, \"Predictions\": y_pred_knr})\n",
    "pd.options.display.float_format = '{:.2f}'.format\n",
    "df.head()"
   ]
  },
  {
   "cell_type": "code",
   "execution_count": 134,
   "id": "c5e8a078",
   "metadata": {},
   "outputs": [],
   "source": [
    "# random fores regressor\n",
    "rf = RandomForestRegressor(n_estimators=100, random_state=42)\n",
    "\n",
    "rf.fit(X_train_san, y_train_san) # Train the model on the training data\n",
    " # Evaluate the model on the validation set\n",
    "y_pred_rf = rf.predict(X_test_san)\n",
    "     "
   ]
  },
  {
   "cell_type": "code",
   "execution_count": 135,
   "id": "987592ce",
   "metadata": {},
   "outputs": [
    {
     "name": "stdout",
     "output_type": "stream",
     "text": [
      "R-squared: -0.4793870339901194\n",
      "Mean Squared Error: 1437.6217664893613\n",
      "Mean Absolute Error: 26.9243085106383\n"
     ]
    }
   ],
   "source": [
    "# R-squared\n",
    "rf_r2 = r2_score(y_test_san, y_pred_rf)\n",
    "\n",
    "# Mean Squared Error\n",
    "rf_mse = mean_squared_error(y_test_san, y_pred_rf)\n",
    "\n",
    "# Mean Absolute Error\n",
    "rf_mae = mean_absolute_error(y_test_san, y_pred_rf)\n",
    "\n",
    "print(\"R-squared:\", rf_r2)\n",
    "print(\"Mean Squared Error:\", rf_mse)\n",
    "print(\"Mean Absolute Error:\", rf_mae)"
   ]
  },
  {
   "cell_type": "code",
   "execution_count": 136,
   "id": "1513fd09",
   "metadata": {},
   "outputs": [
    {
     "data": {
      "text/html": [
       "<div>\n",
       "<style scoped>\n",
       "    .dataframe tbody tr th:only-of-type {\n",
       "        vertical-align: middle;\n",
       "    }\n",
       "\n",
       "    .dataframe tbody tr th {\n",
       "        vertical-align: top;\n",
       "    }\n",
       "\n",
       "    .dataframe thead th {\n",
       "        text-align: right;\n",
       "    }\n",
       "</style>\n",
       "<table border=\"1\" class=\"dataframe\">\n",
       "  <thead>\n",
       "    <tr style=\"text-align: right;\">\n",
       "      <th></th>\n",
       "      <th>Actual Values</th>\n",
       "      <th>Predictions</th>\n",
       "    </tr>\n",
       "  </thead>\n",
       "  <tbody>\n",
       "    <tr>\n",
       "      <th>748</th>\n",
       "      <td>13</td>\n",
       "      <td>51.25</td>\n",
       "    </tr>\n",
       "    <tr>\n",
       "      <th>749</th>\n",
       "      <td>27</td>\n",
       "      <td>54.98</td>\n",
       "    </tr>\n",
       "    <tr>\n",
       "      <th>750</th>\n",
       "      <td>13</td>\n",
       "      <td>39.58</td>\n",
       "    </tr>\n",
       "    <tr>\n",
       "      <th>751</th>\n",
       "      <td>18</td>\n",
       "      <td>46.25</td>\n",
       "    </tr>\n",
       "    <tr>\n",
       "      <th>752</th>\n",
       "      <td>16</td>\n",
       "      <td>51.80</td>\n",
       "    </tr>\n",
       "  </tbody>\n",
       "</table>\n",
       "</div>"
      ],
      "text/plain": [
       "     Actual Values  Predictions\n",
       "748             13        51.25\n",
       "749             27        54.98\n",
       "750             13        39.58\n",
       "751             18        46.25\n",
       "752             16        51.80"
      ]
     },
     "execution_count": 136,
     "metadata": {},
     "output_type": "execute_result"
    }
   ],
   "source": [
    "df = pd.DataFrame(data={\"Actual Values\": y_test_san, \"Predictions\": y_pred_rf})\n",
    "pd.options.display.float_format = '{:.2f}'.format\n",
    "df.head()"
   ]
  },
  {
   "cell_type": "code",
   "execution_count": 137,
   "id": "9f989ebc",
   "metadata": {},
   "outputs": [],
   "source": [
    "\n",
    "# Let me try ridge regression\n",
    "rr=Ridge()\n",
    "rr.fit(X_train_san, y_train_san) # Train the model on the training data\n",
    " # Evaluate the model on the validation set\n",
    "y_pred_rr = rr.predict(X_test_san)"
   ]
  },
  {
   "cell_type": "code",
   "execution_count": 138,
   "id": "26c08412",
   "metadata": {},
   "outputs": [
    {
     "name": "stdout",
     "output_type": "stream",
     "text": [
      "R-squared: -0.13692842846654507\n",
      "Mean Squared Error: 1104.8312700805816\n",
      "Mean Absolute Error: 25.446879043736086\n"
     ]
    }
   ],
   "source": [
    "\n",
    "# R-squared\n",
    "rr_r2 = r2_score(y_test_san, y_pred_rr)\n",
    "\n",
    "# Mean Squared Error\n",
    "rr_mse = mean_squared_error(y_test_san, y_pred_rr)\n",
    "\n",
    "# Mean Absolute Error\n",
    "rr_mae = mean_absolute_error(y_test_san, y_pred_rr)\n",
    "\n",
    "print(\"R-squared:\", rr_r2)\n",
    "print(\"Mean Squared Error:\", rr_mse)\n",
    "print(\"Mean Absolute Error:\", rr_mae)"
   ]
  },
  {
   "cell_type": "code",
   "execution_count": 139,
   "id": "e46b39b5",
   "metadata": {},
   "outputs": [
    {
     "data": {
      "text/html": [
       "<div>\n",
       "<style scoped>\n",
       "    .dataframe tbody tr th:only-of-type {\n",
       "        vertical-align: middle;\n",
       "    }\n",
       "\n",
       "    .dataframe tbody tr th {\n",
       "        vertical-align: top;\n",
       "    }\n",
       "\n",
       "    .dataframe thead th {\n",
       "        text-align: right;\n",
       "    }\n",
       "</style>\n",
       "<table border=\"1\" class=\"dataframe\">\n",
       "  <thead>\n",
       "    <tr style=\"text-align: right;\">\n",
       "      <th></th>\n",
       "      <th>Actual Values</th>\n",
       "      <th>Predictions</th>\n",
       "    </tr>\n",
       "  </thead>\n",
       "  <tbody>\n",
       "    <tr>\n",
       "      <th>748</th>\n",
       "      <td>13</td>\n",
       "      <td>64.75</td>\n",
       "    </tr>\n",
       "    <tr>\n",
       "      <th>749</th>\n",
       "      <td>27</td>\n",
       "      <td>54.91</td>\n",
       "    </tr>\n",
       "    <tr>\n",
       "      <th>750</th>\n",
       "      <td>13</td>\n",
       "      <td>24.11</td>\n",
       "    </tr>\n",
       "    <tr>\n",
       "      <th>751</th>\n",
       "      <td>18</td>\n",
       "      <td>41.53</td>\n",
       "    </tr>\n",
       "    <tr>\n",
       "      <th>752</th>\n",
       "      <td>16</td>\n",
       "      <td>40.21</td>\n",
       "    </tr>\n",
       "  </tbody>\n",
       "</table>\n",
       "</div>"
      ],
      "text/plain": [
       "     Actual Values  Predictions\n",
       "748             13        64.75\n",
       "749             27        54.91\n",
       "750             13        24.11\n",
       "751             18        41.53\n",
       "752             16        40.21"
      ]
     },
     "execution_count": 139,
     "metadata": {},
     "output_type": "execute_result"
    }
   ],
   "source": [
    "df = pd.DataFrame(data={\"Actual Values\": y_test_san, \"Predictions\": y_pred_rr})\n",
    "pd.options.display.float_format = '{:.2f}'.format\n",
    "df.head()"
   ]
  },
  {
   "cell_type": "code",
   "execution_count": 140,
   "id": "706ab49a",
   "metadata": {},
   "outputs": [
    {
     "name": "stdout",
     "output_type": "stream",
     "text": [
      "Model: LinearRegression\n",
      "R-squared: -0.2597561012788663\n",
      "Mean Squared Error: 1224.1913373957357\n",
      "Mean Absolute Error: 26.89028649271969\n",
      "\n",
      "\n",
      "Model: Ridge\n",
      "R-squared: -0.13692842846654507\n",
      "Mean Squared Error: 1104.8312700805816\n",
      "Mean Absolute Error: 25.446879043736086\n",
      "\n",
      "\n",
      "Model: RandomForestRegressor\n",
      "R-squared: -0.4793870339901194\n",
      "Mean Squared Error: 1437.6217664893613\n",
      "Mean Absolute Error: 26.9243085106383\n",
      "\n",
      "\n",
      "Model: KNeighborsRegressor\n",
      "R-squared: -0.4475229311480782\n",
      "Mean Squared Error: 1406.6572340425535\n",
      "Mean Absolute Error: 26.273404255319146\n",
      "\n",
      "\n"
     ]
    }
   ],
   "source": [
    "# Check how the models are all performing in a visual manner\n",
    "\n",
    "models = ['LinearRegression','Ridge','RandomForestRegressor','KNeighborsRegressor']\n",
    "r2_values = [lr_r2,rr_r2, rf_r2,knr_r2]\n",
    "mse_values = [lr_mse,rr_mse, rf_mse,knr_mse]\n",
    "mae_values = [lr_mae, rr_mae, rf_mae, knr_mae]\n",
    "\n",
    "# Print or visualize the comparison\n",
    "for model, r2, mse, mae in zip(models, r2_values, mse_values, mae_values):\n",
    "    print(f'Model: {model}')\n",
    "    print(f'R-squared: {r2}')\n",
    "    print(f'Mean Squared Error: {mse}')\n",
    "    print(f'Mean Absolute Error: {mae}')\n",
    "    print('\\n')"
   ]
  },
  {
   "cell_type": "markdown",
   "id": "b69d6244",
   "metadata": {},
   "source": [
    "## Iquitos Data"
   ]
  },
  {
   "cell_type": "code",
   "execution_count": 143,
   "id": "74a4fdd2",
   "metadata": {},
   "outputs": [],
   "source": [
    "df_2=iq_data.copy()"
   ]
  },
  {
   "cell_type": "code",
   "execution_count": 145,
   "id": "36efe281",
   "metadata": {},
   "outputs": [],
   "source": [
    "df2_data=wrangle(df_2,'total_cases')"
   ]
  },
  {
   "cell_type": "code",
   "execution_count": 146,
   "id": "2b89b02f",
   "metadata": {},
   "outputs": [],
   "source": [
    "X_scaled_iq, y_iq=preprocessing(df2_data,'total_cases')"
   ]
  },
  {
   "cell_type": "code",
   "execution_count": 151,
   "id": "eb4204d2",
   "metadata": {},
   "outputs": [],
   "source": [
    "# I will use 20% on the test data\n",
    "cut_off_2=int(len(X_scaled_iq)*0.8)"
   ]
  },
  {
   "cell_type": "code",
   "execution_count": 153,
   "id": "c0767154",
   "metadata": {},
   "outputs": [],
   "source": [
    "X_train_iq=X_scaled_iq[0: cut_off_2]"
   ]
  },
  {
   "cell_type": "code",
   "execution_count": 156,
   "id": "69221745",
   "metadata": {},
   "outputs": [],
   "source": [
    "X_test_iq=X_scaled_iq[cut_off_2:]"
   ]
  },
  {
   "cell_type": "code",
   "execution_count": 158,
   "id": "10629d24",
   "metadata": {},
   "outputs": [],
   "source": [
    "y_train_iq= y_iq[0: cut_off_2]"
   ]
  },
  {
   "cell_type": "code",
   "execution_count": 159,
   "id": "32e22412",
   "metadata": {},
   "outputs": [],
   "source": [
    "y_test_iq= y_iq[cut_off_2:]"
   ]
  },
  {
   "cell_type": "code",
   "execution_count": 162,
   "id": "35afb6e2",
   "metadata": {},
   "outputs": [],
   "source": [
    "#Linear regression\n",
    "lr_2=LinearRegression()\n",
    "lr_2.fit(X_train_iq, y_train_iq) # Train the model on the training data\n",
    " # Evaluate the model on the validation set\n",
    "y_pred_iq = lr_2.predict(X_test_iq)"
   ]
  },
  {
   "cell_type": "code",
   "execution_count": 163,
   "id": "57b3b323",
   "metadata": {},
   "outputs": [
    {
     "name": "stdout",
     "output_type": "stream",
     "text": [
      "R-squared: -0.07975856353471689\n",
      "Mean Squared Error: 140.8042702834837\n",
      "Mean Absolute Error: 7.344065367909114\n"
     ]
    }
   ],
   "source": [
    "# calaculate the metrics\n",
    "# R-squared\n",
    "lr_r2_2 = r2_score(y_test_iq, y_pred_iq)\n",
    "\n",
    "# Mean Squared Error\n",
    "lr_mse_2 = mean_squared_error(y_test_iq, y_pred_iq)\n",
    "\n",
    "# Mean Absolute Error\n",
    "lr_mae_2 = mean_absolute_error(y_test_iq, y_pred_iq)\n",
    "\n",
    "print(\"R-squared:\", lr_r2_2)\n",
    "print(\"Mean Squared Error:\", lr_mse_2)\n",
    "print(\"Mean Absolute Error:\", lr_mae_2)\n"
   ]
  },
  {
   "cell_type": "code",
   "execution_count": 164,
   "id": "5f81e211",
   "metadata": {},
   "outputs": [
    {
     "data": {
      "text/html": [
       "<div>\n",
       "<style scoped>\n",
       "    .dataframe tbody tr th:only-of-type {\n",
       "        vertical-align: middle;\n",
       "    }\n",
       "\n",
       "    .dataframe tbody tr th {\n",
       "        vertical-align: top;\n",
       "    }\n",
       "\n",
       "    .dataframe thead th {\n",
       "        text-align: right;\n",
       "    }\n",
       "</style>\n",
       "<table border=\"1\" class=\"dataframe\">\n",
       "  <thead>\n",
       "    <tr style=\"text-align: right;\">\n",
       "      <th></th>\n",
       "      <th>Actual Values</th>\n",
       "      <th>Predictions</th>\n",
       "    </tr>\n",
       "  </thead>\n",
       "  <tbody>\n",
       "    <tr>\n",
       "      <th>1352</th>\n",
       "      <td>0</td>\n",
       "      <td>5.21</td>\n",
       "    </tr>\n",
       "    <tr>\n",
       "      <th>1353</th>\n",
       "      <td>3</td>\n",
       "      <td>1.76</td>\n",
       "    </tr>\n",
       "    <tr>\n",
       "      <th>1354</th>\n",
       "      <td>3</td>\n",
       "      <td>4.52</td>\n",
       "    </tr>\n",
       "    <tr>\n",
       "      <th>1355</th>\n",
       "      <td>1</td>\n",
       "      <td>6.21</td>\n",
       "    </tr>\n",
       "    <tr>\n",
       "      <th>1356</th>\n",
       "      <td>5</td>\n",
       "      <td>6.53</td>\n",
       "    </tr>\n",
       "  </tbody>\n",
       "</table>\n",
       "</div>"
      ],
      "text/plain": [
       "      Actual Values  Predictions\n",
       "1352              0         5.21\n",
       "1353              3         1.76\n",
       "1354              3         4.52\n",
       "1355              1         6.21\n",
       "1356              5         6.53"
      ]
     },
     "execution_count": 164,
     "metadata": {},
     "output_type": "execute_result"
    }
   ],
   "source": [
    "df = pd.DataFrame(data={\"Actual Values\": y_test_iq, \"Predictions\": y_pred_iq})\n",
    "pd.options.display.float_format = '{:.2f}'.format\n",
    "df.head()"
   ]
  },
  {
   "cell_type": "code",
   "execution_count": 165,
   "id": "df5784e7",
   "metadata": {},
   "outputs": [],
   "source": [
    "\n",
    "# KNeighbors regressor\n",
    "knr_2=KNeighborsRegressor()\n",
    "knr_2.fit(X_train_iq, y_train_iq) # Train the model on the training data\n",
    " # Evaluate the model on the validation set\n",
    "y_pred_knr_iq = knr_2.predict(X_test_iq)"
   ]
  },
  {
   "cell_type": "code",
   "execution_count": 166,
   "id": "d03f3e08",
   "metadata": {},
   "outputs": [
    {
     "name": "stdout",
     "output_type": "stream",
     "text": [
      "R-squared: -0.14793423914738946\n",
      "Mean Squared Error: 149.6946153846154\n",
      "Mean Absolute Error: 7.38076923076923\n"
     ]
    }
   ],
   "source": [
    "# R-squared\n",
    "knr_r2_2 = r2_score(y_test_iq, y_pred_knr_iq)\n",
    "\n",
    "# Mean Squared Error\n",
    "knr_mse_2 = mean_squared_error(y_test_iq, y_pred_knr_iq)\n",
    "\n",
    "# Mean Absolute Error\n",
    "knr_mae_2 = mean_absolute_error(y_test_iq, y_pred_knr_iq)\n",
    "\n",
    "print(\"R-squared:\", knr_r2_2)\n",
    "print(\"Mean Squared Error:\", knr_mse_2)\n",
    "print(\"Mean Absolute Error:\", knr_mae_2)"
   ]
  },
  {
   "cell_type": "code",
   "execution_count": 167,
   "id": "d7ea01ae",
   "metadata": {},
   "outputs": [
    {
     "data": {
      "text/html": [
       "<div>\n",
       "<style scoped>\n",
       "    .dataframe tbody tr th:only-of-type {\n",
       "        vertical-align: middle;\n",
       "    }\n",
       "\n",
       "    .dataframe tbody tr th {\n",
       "        vertical-align: top;\n",
       "    }\n",
       "\n",
       "    .dataframe thead th {\n",
       "        text-align: right;\n",
       "    }\n",
       "</style>\n",
       "<table border=\"1\" class=\"dataframe\">\n",
       "  <thead>\n",
       "    <tr style=\"text-align: right;\">\n",
       "      <th></th>\n",
       "      <th>Actual Values</th>\n",
       "      <th>Predictions</th>\n",
       "    </tr>\n",
       "  </thead>\n",
       "  <tbody>\n",
       "    <tr>\n",
       "      <th>1352</th>\n",
       "      <td>0</td>\n",
       "      <td>2.40</td>\n",
       "    </tr>\n",
       "    <tr>\n",
       "      <th>1353</th>\n",
       "      <td>3</td>\n",
       "      <td>5.20</td>\n",
       "    </tr>\n",
       "    <tr>\n",
       "      <th>1354</th>\n",
       "      <td>3</td>\n",
       "      <td>4.60</td>\n",
       "    </tr>\n",
       "    <tr>\n",
       "      <th>1355</th>\n",
       "      <td>1</td>\n",
       "      <td>3.80</td>\n",
       "    </tr>\n",
       "    <tr>\n",
       "      <th>1356</th>\n",
       "      <td>5</td>\n",
       "      <td>3.00</td>\n",
       "    </tr>\n",
       "  </tbody>\n",
       "</table>\n",
       "</div>"
      ],
      "text/plain": [
       "      Actual Values  Predictions\n",
       "1352              0         2.40\n",
       "1353              3         5.20\n",
       "1354              3         4.60\n",
       "1355              1         3.80\n",
       "1356              5         3.00"
      ]
     },
     "execution_count": 167,
     "metadata": {},
     "output_type": "execute_result"
    }
   ],
   "source": [
    "df = pd.DataFrame(data={\"Actual Values\": y_test_iq, \"Predictions\": y_pred_knr_iq})\n",
    "pd.options.display.float_format = '{:.2f}'.format\n",
    "df.head()"
   ]
  },
  {
   "cell_type": "code",
   "execution_count": 168,
   "id": "733b76c3",
   "metadata": {},
   "outputs": [],
   "source": [
    "# random fores regressor\n",
    "rf_2 = RandomForestRegressor(n_estimators=100, random_state=42)\n",
    "\n",
    "rf_2.fit(X_train_iq, y_train_iq) # Train the model on the training data\n",
    " # Evaluate the model on the validation set\n",
    "y_pred_rf_iq = rf_2.predict(X_test_iq)"
   ]
  },
  {
   "cell_type": "code",
   "execution_count": 169,
   "id": "3d330d4b",
   "metadata": {},
   "outputs": [
    {
     "name": "stdout",
     "output_type": "stream",
     "text": [
      "R-squared: -0.13411560388076404\n",
      "Mean Squared Error: 147.89261730769232\n",
      "Mean Absolute Error: 7.517692307692308\n"
     ]
    }
   ],
   "source": [
    "# R-squared\n",
    "rf_r2_2 = r2_score(y_test_iq, y_pred_rf_iq)\n",
    "\n",
    "# Mean Squared Error\n",
    "rf_mse_2 = mean_squared_error(y_test_iq, y_pred_rf_iq)\n",
    "\n",
    "# Mean Absolute Error\n",
    "rf_mae_2 = mean_absolute_error(y_test_iq, y_pred_rf_iq)\n",
    "\n",
    "print(\"R-squared:\", rf_r2_2)\n",
    "print(\"Mean Squared Error:\", rf_mse_2)\n",
    "print(\"Mean Absolute Error:\", rf_mae_2)"
   ]
  },
  {
   "cell_type": "code",
   "execution_count": 172,
   "id": "efee27a3",
   "metadata": {},
   "outputs": [
    {
     "data": {
      "text/html": [
       "<div>\n",
       "<style scoped>\n",
       "    .dataframe tbody tr th:only-of-type {\n",
       "        vertical-align: middle;\n",
       "    }\n",
       "\n",
       "    .dataframe tbody tr th {\n",
       "        vertical-align: top;\n",
       "    }\n",
       "\n",
       "    .dataframe thead th {\n",
       "        text-align: right;\n",
       "    }\n",
       "</style>\n",
       "<table border=\"1\" class=\"dataframe\">\n",
       "  <thead>\n",
       "    <tr style=\"text-align: right;\">\n",
       "      <th></th>\n",
       "      <th>Actual Values</th>\n",
       "      <th>Predictions</th>\n",
       "    </tr>\n",
       "  </thead>\n",
       "  <tbody>\n",
       "    <tr>\n",
       "      <th>1352</th>\n",
       "      <td>0</td>\n",
       "      <td>3.13</td>\n",
       "    </tr>\n",
       "    <tr>\n",
       "      <th>1353</th>\n",
       "      <td>3</td>\n",
       "      <td>3.55</td>\n",
       "    </tr>\n",
       "    <tr>\n",
       "      <th>1354</th>\n",
       "      <td>3</td>\n",
       "      <td>2.65</td>\n",
       "    </tr>\n",
       "    <tr>\n",
       "      <th>1355</th>\n",
       "      <td>1</td>\n",
       "      <td>3.41</td>\n",
       "    </tr>\n",
       "    <tr>\n",
       "      <th>1356</th>\n",
       "      <td>5</td>\n",
       "      <td>2.41</td>\n",
       "    </tr>\n",
       "  </tbody>\n",
       "</table>\n",
       "</div>"
      ],
      "text/plain": [
       "      Actual Values  Predictions\n",
       "1352              0         3.13\n",
       "1353              3         3.55\n",
       "1354              3         2.65\n",
       "1355              1         3.41\n",
       "1356              5         2.41"
      ]
     },
     "execution_count": 172,
     "metadata": {},
     "output_type": "execute_result"
    }
   ],
   "source": [
    "df = pd.DataFrame(data={\"Actual Values\": y_test_iq, \"Predictions\": y_pred_rf_iq})\n",
    "pd.options.display.float_format = '{:.2f}'.format\n",
    "df.head()"
   ]
  },
  {
   "cell_type": "code",
   "execution_count": 173,
   "id": "ba17e322",
   "metadata": {},
   "outputs": [],
   "source": [
    "\n",
    "# Let me try ridge regression\n",
    "rr_2=Ridge()\n",
    "rr_2.fit(X_train_iq, y_train_iq) # Train the model on the training data\n",
    " # Evaluate the model on the validation set\n",
    "y_pred_rr_iq = rr_2.predict(X_test_iq)"
   ]
  },
  {
   "cell_type": "code",
   "execution_count": 174,
   "id": "85f94e26",
   "metadata": {},
   "outputs": [
    {
     "name": "stdout",
     "output_type": "stream",
     "text": [
      "R-squared: -0.05858965293156082\n",
      "Mean Squared Error: 138.04377075068436\n",
      "Mean Absolute Error: 7.2447106518776385\n"
     ]
    }
   ],
   "source": [
    "\n",
    "# R-squared\n",
    "rr_r2_2 = r2_score(y_test_iq, y_pred_rr_iq)\n",
    "\n",
    "# Mean Squared Error\n",
    "rr_mse_2 = mean_squared_error(y_test_iq, y_pred_rr_iq)\n",
    "\n",
    "# Mean Absolute Error\n",
    "rr_mae_2 = mean_absolute_error(y_test_iq, y_pred_rr_iq)\n",
    "\n",
    "print(\"R-squared:\", rr_r2_2)\n",
    "print(\"Mean Squared Error:\", rr_mse_2)\n",
    "print(\"Mean Absolute Error:\", rr_mae_2)"
   ]
  },
  {
   "cell_type": "code",
   "execution_count": 175,
   "id": "d14378a8",
   "metadata": {},
   "outputs": [
    {
     "data": {
      "text/html": [
       "<div>\n",
       "<style scoped>\n",
       "    .dataframe tbody tr th:only-of-type {\n",
       "        vertical-align: middle;\n",
       "    }\n",
       "\n",
       "    .dataframe tbody tr th {\n",
       "        vertical-align: top;\n",
       "    }\n",
       "\n",
       "    .dataframe thead th {\n",
       "        text-align: right;\n",
       "    }\n",
       "</style>\n",
       "<table border=\"1\" class=\"dataframe\">\n",
       "  <thead>\n",
       "    <tr style=\"text-align: right;\">\n",
       "      <th></th>\n",
       "      <th>Actual Values</th>\n",
       "      <th>Predictions</th>\n",
       "    </tr>\n",
       "  </thead>\n",
       "  <tbody>\n",
       "    <tr>\n",
       "      <th>1352</th>\n",
       "      <td>0</td>\n",
       "      <td>6.54</td>\n",
       "    </tr>\n",
       "    <tr>\n",
       "      <th>1353</th>\n",
       "      <td>3</td>\n",
       "      <td>3.36</td>\n",
       "    </tr>\n",
       "    <tr>\n",
       "      <th>1354</th>\n",
       "      <td>3</td>\n",
       "      <td>6.10</td>\n",
       "    </tr>\n",
       "    <tr>\n",
       "      <th>1355</th>\n",
       "      <td>1</td>\n",
       "      <td>5.09</td>\n",
       "    </tr>\n",
       "    <tr>\n",
       "      <th>1356</th>\n",
       "      <td>5</td>\n",
       "      <td>6.57</td>\n",
       "    </tr>\n",
       "  </tbody>\n",
       "</table>\n",
       "</div>"
      ],
      "text/plain": [
       "      Actual Values  Predictions\n",
       "1352              0         6.54\n",
       "1353              3         3.36\n",
       "1354              3         6.10\n",
       "1355              1         5.09\n",
       "1356              5         6.57"
      ]
     },
     "execution_count": 175,
     "metadata": {},
     "output_type": "execute_result"
    }
   ],
   "source": [
    "df = pd.DataFrame(data={\"Actual Values\": y_test_iq, \"Predictions\": y_pred_rr_iq})\n",
    "pd.options.display.float_format = '{:.2f}'.format\n",
    "df.head()"
   ]
  },
  {
   "cell_type": "code",
   "execution_count": 176,
   "id": "7f810238",
   "metadata": {},
   "outputs": [
    {
     "name": "stdout",
     "output_type": "stream",
     "text": [
      "Model: LinearRegression\n",
      "R-squared: -0.07975856353471689\n",
      "Mean Squared Error: 140.8042702834837\n",
      "Mean Absolute Error: 7.344065367909114\n",
      "\n",
      "\n",
      "Model: Ridge\n",
      "R-squared: -0.05858965293156082\n",
      "Mean Squared Error: 138.04377075068436\n",
      "Mean Absolute Error: 7.2447106518776385\n",
      "\n",
      "\n",
      "Model: RandomForestRegressor\n",
      "R-squared: -0.13411560388076404\n",
      "Mean Squared Error: 147.89261730769232\n",
      "Mean Absolute Error: 7.517692307692308\n",
      "\n",
      "\n",
      "Model: KNeighborsRegressor\n",
      "R-squared: -0.14793423914738946\n",
      "Mean Squared Error: 149.6946153846154\n",
      "Mean Absolute Error: 7.38076923076923\n",
      "\n",
      "\n"
     ]
    }
   ],
   "source": [
    "# Check how the models are all performing in a visual manner\n",
    "\n",
    "models = ['LinearRegression','Ridge','RandomForestRegressor','KNeighborsRegressor']\n",
    "r2_values = [lr_r2_2,rr_r2_2, rf_r2_2,knr_r2_2]\n",
    "mse_values = [lr_mse_2,rr_mse_2, rf_mse_2,knr_mse_2]\n",
    "mae_values = [lr_mae_2, rr_mae_2, rf_mae_2, knr_mae_2]\n",
    "\n",
    "# Print or visualize the comparison\n",
    "for model, r2, mse, mae in zip(models, r2_values, mse_values, mae_values):\n",
    "    print(f'Model: {model}')\n",
    "    print(f'R-squared: {r2}')\n",
    "    print(f'Mean Squared Error: {mse}')\n",
    "    print(f'Mean Absolute Error: {mae}')\n",
    "    print('\\n')"
   ]
  },
  {
   "cell_type": "markdown",
   "id": "713e5673",
   "metadata": {},
   "source": [
    "**Observations**\\\n",
    "Ridge Regrerssion is the best performing model in the two towns\n"
   ]
  },
  {
   "cell_type": "code",
   "execution_count": null,
   "id": "ad4d0871",
   "metadata": {},
   "outputs": [],
   "source": [
    "# let me try combining the two MAE- Ridge and see how it performs."
   ]
  },
  {
   "cell_type": "code",
   "execution_count": 177,
   "id": "a75c52e1",
   "metadata": {},
   "outputs": [
    {
     "name": "stdout",
     "output_type": "stream",
     "text": [
      "Weighted Average MAE: 18.946104618072354\n"
     ]
    }
   ],
   "source": [
    "# MAEs from the two datasets\n",
    "MAE1 = 25.446879043736086\n",
    "MAE2 = 7.2447106518776385\n",
    "\n",
    "# Number of observations in the two datasets\n",
    "n1 = 936\n",
    "n2 = 520\n",
    "\n",
    "# Calculate the weighted average MAE\n",
    "weighted_avg_MAE = ((n1 * MAE1) + (n2 * MAE2)) / (n1 + n2)\n",
    "\n",
    "print(f\"Weighted Average MAE: {weighted_avg_MAE}\")\n"
   ]
  },
  {
   "cell_type": "markdown",
   "id": "eb77b5c2",
   "metadata": {},
   "source": [
    "After training the models, you can work introduce a test dataset and work use the models to predict the total_cases"
   ]
  }
 ],
 "metadata": {
  "kernelspec": {
   "display_name": "Python 3 (ipykernel)",
   "language": "python",
   "name": "python3"
  },
  "language_info": {
   "codemirror_mode": {
    "name": "ipython",
    "version": 3
   },
   "file_extension": ".py",
   "mimetype": "text/x-python",
   "name": "python",
   "nbconvert_exporter": "python",
   "pygments_lexer": "ipython3",
   "version": "3.10.9"
  }
 },
 "nbformat": 4,
 "nbformat_minor": 5
}
